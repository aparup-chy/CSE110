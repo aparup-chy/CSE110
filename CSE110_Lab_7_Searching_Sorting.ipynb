{
  "cells": [
    {
      "cell_type": "markdown",
      "metadata": {},
      "source": [
        "Lab 7 Searching-Sorting Tasks: https://drive.google.com/file/d/1G6WOCPPVdQ9lR7hhyxfEtCOHmLozy3gN/view"
      ]
    },
    {
      "cell_type": "code",
      "execution_count": null,
      "metadata": {
        "colab": {
          "base_uri": "https://localhost:8080/"
        },
        "id": "JhK0pcMq4OGH",
        "outputId": "41059e81-a61d-44ff-e201-5a332d1ca11c"
      },
      "outputs": [
        {
          "name": "stdout",
          "output_type": "stream",
          "text": [
            "[1, 2, 2, 3, 5, 6, 10, 11, 12, 14, 15, 17, 18, 20, 29]\n"
          ]
        }
      ],
      "source": [
        "# Task_1\n",
        "\n",
        "my_list = [10, 1, 20, 3, 6, 2, 5, 11, 15, 2, 12, 14, 17, 18, 29]\n",
        "for i in range(len(my_list)):\n",
        "    for j in range(len(my_list)-1):\n",
        "        if my_list[j]>my_list[j+1]:\n",
        "            my_list[j],my_list[j+1]=my_list[j+1],my_list[j]\n",
        "print(my_list)\n"
      ]
    },
    {
      "cell_type": "code",
      "execution_count": null,
      "metadata": {
        "colab": {
          "base_uri": "https://localhost:8080/"
        },
        "id": "GHrC-NPU7ENh",
        "outputId": "de76e864-2af7-4356-fd1d-c2c7b97bd179"
      },
      "outputs": [
        {
          "name": "stdout",
          "output_type": "stream",
          "text": [
            "[1, 2, 2, 3, 5, 6, 10, 11, 12, 14, 15, 17, 18, 20, 29]\n"
          ]
        }
      ],
      "source": [
        "#Task_2\n",
        "\n",
        "my_list= [10, 1, 20, 3, 6, 2, 5, 11, 15, 2, 12, 14, 17, 18, 29]\n",
        "for i in range(len(my_list)):\n",
        "    min = my_list[i]\n",
        "    min_loc = i\n",
        "    for j in range(i+1,len(my_list)):\n",
        "        if min>my_list[j]:\n",
        "            min = my_list[j]\n",
        "            min_loc = j\n",
        "    temp = min\n",
        "    my_list[min_loc]=my_list[i]\n",
        "    my_list[i]=temp\n",
        "print(my_list)\n"
      ]
    },
    {
      "cell_type": "code",
      "execution_count": null,
      "metadata": {
        "colab": {
          "base_uri": "https://localhost:8080/"
        },
        "id": "Xppdy48i7IZp",
        "outputId": "c074b4b1-2449-4156-c4ab-d0d03ff729d2"
      },
      "outputs": [
        {
          "name": "stdout",
          "output_type": "stream",
          "text": [
            "[29, 20, 18, 17, 15, 14, 12, 11, 10, 6, 5, 3, 2, 2, 1]\n"
          ]
        }
      ],
      "source": [
        "#Task_3\n",
        "\n",
        "my_list = [10, 1, 20, 3, 6, 2, 5, 11, 15, 2, 12, 14, 17, 18, 29]\n",
        "for i in range(len(my_list)):\n",
        "    for j in range(len(my_list)-1):\n",
        "        if my_list[j]<my_list[j+1]:\n",
        "            my_list[j],my_list[j+1]=my_list[j+1],my_list[j]\n",
        "print(my_list)\n"
      ]
    },
    {
      "cell_type": "code",
      "execution_count": null,
      "metadata": {
        "colab": {
          "base_uri": "https://localhost:8080/"
        },
        "id": "7ykwpxRn7NZP",
        "outputId": "09d506af-f1e2-4b87-f412-67baebb40b82"
      },
      "outputs": [
        {
          "name": "stdout",
          "output_type": "stream",
          "text": [
            "[10, 100, 11, 80, 12, 70, 20, 56, 22, 30, 58, 16, 70, 15]\n"
          ]
        }
      ],
      "source": [
        "#Task_4\n",
        "\n",
        "sitting_list =  [10,30,20,70,11,15,22,16,58,100,12,56,70,80]\n",
        "\n",
        "for i in range(len(sitting_list)-1):\n",
        "    for j in range(len(sitting_list)-i-2):\n",
        "        \n",
        "        if j % 2 == 0:\n",
        "            if sitting_list[j] > sitting_list[j+2]:\n",
        "                sitting_list[j],sitting_list[j+2] = sitting_list[j+2],sitting_list[j]\n",
        "        else:\n",
        "            if sitting_list[j] < sitting_list[j+2]:\n",
        "                sitting_list[j],sitting_list[j+2] = sitting_list[j+2],sitting_list[j]\n",
        "                \n",
        "print(sitting_list)\n"
      ]
    },
    {
      "cell_type": "code",
      "execution_count": null,
      "metadata": {
        "colab": {
          "base_uri": "https://localhost:8080/"
        },
        "id": "tP9sOvbf7ci0",
        "outputId": "7e24b9b0-85f6-4ea4-cdb0-a833c7564fef"
      },
      "outputs": [
        {
          "name": "stdout",
          "output_type": "stream",
          "text": [
            "PHY111\n",
            "Musk\n",
            "Elon\n",
            "Turing\n",
            "Alan\n"
          ]
        }
      ],
      "source": [
        "#Task_5\n",
        "\n",
        "lst = [[\"Alan\", 95, 87, 91], [\"Turing\", 92, 90, 83], [\"Elon\", 87, 92, 80], [\"Musk\", 85, 94, 90] ]\n",
        "inp_str = input()\n",
        "dictionary = {'CSE110':1,'PHY111':2,'MAT110':3}\n",
        "for i in range(len(lst)-1):\n",
        "    for j in range(len(lst)-1-i):\n",
        "        if lst[j][dictionary[inp_str]] < lst[j+1][dictionary[inp_str]]:\n",
        "            lst[j],lst[j+1] = lst[j+1],lst[j]\n",
        "\n",
        "for i in lst:\n",
        "    print(i[0])\n",
        "    "
      ]
    },
    {
      "cell_type": "code",
      "execution_count": null,
      "metadata": {
        "colab": {
          "base_uri": "https://localhost:8080/"
        },
        "id": "vZ8FZWfx-6bM",
        "outputId": "9b9e2cb2-32cd-49aa-9298-b85f0e762902"
      },
      "outputs": [
        {
          "name": "stdout",
          "output_type": "stream",
          "text": [
            "4\n"
          ]
        }
      ],
      "source": [
        "#Task_6\n",
        "\n",
        "my_list = [4, 2, 3, 1, 6, 5]\n",
        "comp_list = my_list.copy()\n",
        "count  = 0\n",
        "\n",
        "for i in range(len(my_list)):\n",
        "    min_ind = i\n",
        "    for j in range(i+1,len(my_list)):\n",
        "        if my_list[min_ind] > my_list[j]:\n",
        "            min_ind = j\n",
        "    temp = my_list[min_ind]\n",
        "    my_list[min_ind]=my_list[i]\n",
        "    my_list[i] = temp \n",
        "            \n",
        "for i in comp_list:\n",
        "    if my_list.index(i) != comp_list.index(i):\n",
        "        count += 1\n",
        "print(count)  "
      ]
    },
    {
      "cell_type": "code",
      "execution_count": null,
      "metadata": {
        "colab": {
          "base_uri": "https://localhost:8080/"
        },
        "id": "3rAIbUnR8DcS",
        "outputId": "2a8fcb72-e3a6-424e-e139-99938e0a56bd"
      },
      "outputs": [
        {
          "name": "stdout",
          "output_type": "stream",
          "text": [
            "list_one = [1, 2, 1, 4]\n",
            "list_two = [5, 4, 1]\n",
            "Sorted list = [1, 1, 1, 2, 4, 4, 5]\n",
            "Median = 1\n"
          ]
        }
      ],
      "source": [
        "#Task_7\n",
        "\n",
        "list_one = input('list_one = ').replace('[','').replace(']','').replace(' ','').split(',')\n",
        "list_two = input('list_two = ').replace('[','').replace(']','').replace(' ','').split(',')\n",
        "temp_list = [int(i) for i in list_one]\n",
        "temp_list_1 = [int(i) for i in list_two]\n",
        "merge_list = temp_list + temp_list_1\n",
        "\n",
        "for i in range(len(merge_list)-1):\n",
        "    for j in range(len(merge_list)-1-i):\n",
        "        if merge_list[j] > merge_list[j+1]:\n",
        "            merge_list[j],merge_list[j+1] = merge_list[j+1],merge_list[j]\n",
        "            \n",
        "            \n",
        "print('Sorted list =',merge_list)\n",
        "        \n",
        "if len(merge_list) % 2 != 0:\n",
        "    median = merge_list[(len(merge_list)//2)-1]\n",
        "else:\n",
        "    median = (merge_list[(len(merge_list)//2)-1] + merge_list[len(merge_list)//2])/2\n",
        "    \n",
        "print('Median =',median)"
      ]
    },
    {
      "cell_type": "code",
      "execution_count": null,
      "metadata": {
        "colab": {
          "base_uri": "https://localhost:8080/"
        },
        "id": "x2T2WFBc_EMe",
        "outputId": "635611fd-4078-4091-e344-cf1a2f93a8da"
      },
      "outputs": [
        {
          "name": "stdout",
          "output_type": "stream",
          "text": [
            "[1, -8, 4, -7, -20, 26, 70, -85]\n",
            "Two pairs which have the smallest sum = 4 and -7\n"
          ]
        }
      ],
      "source": [
        "#Task_8\n",
        "\n",
        "list_one = input().replace('[','').replace(']','').replace(' ','').split(',')\n",
        "temp_list = [int(i) for i in list_one]\n",
        "\n",
        "for i in range(len(temp_list)-1):\n",
        "    for j in range(len(temp_list)-i-1):\n",
        "        if temp_list[j] > temp_list[j+1]:\n",
        "            temp_list[j],temp_list[j+1] = temp_list[j+1],temp_list[j]\n",
        "\n",
        "left_ind = 0 \n",
        "right_ind = len(temp_list)-1\n",
        "min_sum = temp_list[left_ind] + temp_list[right_ind]\n",
        "left_val = temp_list[left_ind]\n",
        "right_val = temp_list[right_ind]\n",
        "\n",
        "while left_ind < right_ind:\n",
        "    summ = temp_list[left_ind] + temp_list[right_ind]\n",
        "    \n",
        "    if abs(summ) < abs(min_sum):\n",
        "        min_sum = summ\n",
        "        left_val = temp_list[left_ind]\n",
        "        right_val = temp_list[right_ind]\n",
        "        \n",
        "    if summ < 0:\n",
        "        left_ind += 1\n",
        "    elif summ > 0:\n",
        "        right_ind -= 1\n",
        "    else:\n",
        "        break\n",
        "    \n",
        "print('Two pairs which have the smallest sum =',right_val,'and',left_val)"
      ]
    },
    {
      "cell_type": "code",
      "execution_count": 1,
      "metadata": {
        "colab": {
          "base_uri": "https://localhost:8080/"
        },
        "id": "k8vDYZE0_MVf",
        "outputId": "2ce498a3-dfdb-46b1-9af0-167899f6a1df"
      },
      "outputs": [
        {
          "name": "stdout",
          "output_type": "stream",
          "text": [
            "Minimum distance = 5.0\n",
            "Here the closest point is (-3, -4) which has a distance of 5.0 from the origin.\n"
          ]
        }
      ],
      "source": [
        "#Task_9\n",
        "\n",
        "import math\n",
        "def my_function(points):\n",
        "    list_1= []\n",
        "    dict_1= {}\n",
        "    min_coordn= \"\"\n",
        "    min_dist= 0\n",
        "    for i in points:\n",
        "        num_1= i[0]\n",
        "        num_2= i[1]\n",
        "        dist= math.sqrt((num_1**2+ (num_2**2)))\n",
        "        list_1.append(dist)\n",
        "    for i in range(len(points)):\n",
        "        dict_1[list_1[i]]= points[i]\n",
        "        \n",
        "    for i in range(len(list_1)):\n",
        "        for j in range(len(list_1)-1):\n",
        "            if list_1[j+1]< list_1[j]:\n",
        "                list_1[j], list_1[j+1]= list_1[j+1], list_1[j]\n",
        "    for i in dict_1:\n",
        "        if i== list_1[0]:\n",
        "            min_dist= i\n",
        "            min_coordn= dict_1[i]\n",
        "    print(\"Minimum distance =\", min_dist)        \n",
        "    print(\"Here the closest point is\", min_coordn, \"which has a distance of\", min_dist, \"from the origin.\")       \n",
        "points = [(5,3), (2,9), (-2,7), (-3,-4), (0,6), (7,-2)]\n",
        "my_function(points)\n"
      ]
    }
  ],
  "metadata": {
    "colab": {
      "collapsed_sections": [],
      "name": "CSE110_Lab_Assignment_7_Aparup_Chowdhury_22101229.ipynb",
      "provenance": []
    },
    "kernelspec": {
      "display_name": "Python 3",
      "name": "python3"
    },
    "language_info": {
      "name": "python"
    }
  },
  "nbformat": 4,
  "nbformat_minor": 0
}
