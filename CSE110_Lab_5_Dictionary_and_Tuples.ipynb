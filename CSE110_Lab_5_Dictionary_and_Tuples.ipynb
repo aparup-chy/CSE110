{
  "cells": [
    {
      "cell_type": "markdown",
      "metadata": {},
      "source": [
        "Lab 5 Dictionary & Tuple Tasks: https://drive.google.com/file/d/1HE3pt1TyIHR6K1cBDDTykzOa3WOvV9TJ/view"
      ]
    },
    {
      "cell_type": "code",
      "execution_count": null,
      "metadata": {
        "colab": {
          "base_uri": "https://localhost:8080/"
        },
        "id": "4-H4mT7S00kq",
        "outputId": "cd926b8d-7a00-4264-9024-9a157abc328c"
      },
      "outputs": [
        {
          "name": "stdout",
          "output_type": "stream",
          "text": [
            "400\n"
          ]
        }
      ],
      "source": [
        "#task1\n",
        "\n",
        "a_tuple = (\"The Institute\", (\"Best Mystery & Thriller\", \"The Silent Patient\", 68821), 75717, [1, 2, 3, 400, 5, 6, 7], (\"Best Fiction\", \"The Testaments\", 98291))\n",
        "print(a_tuple[3][3])\n"
      ]
    },
    {
      "cell_type": "code",
      "execution_count": null,
      "metadata": {
        "colab": {
          "base_uri": "https://localhost:8080/"
        },
        "id": "J2jb9uih1VlJ",
        "outputId": "9ab807a0-c003-4549-9b2e-70a4d2408040"
      },
      "outputs": [
        {
          "name": "stdout",
          "output_type": "stream",
          "text": [
            "(24, 25, 26)\n"
          ]
        }
      ],
      "source": [
        "#task2\n",
        "\n",
        "tuple1 = (10, 20, 24, 25, 26, 35, 70)\n",
        "print(tuple1[2:-2])\n"
      ]
    },
    {
      "cell_type": "code",
      "execution_count": null,
      "metadata": {
        "colab": {
          "base_uri": "https://localhost:8080/"
        },
        "id": "uFZ-lxLWX6gQ",
        "outputId": "2c3328b3-3617-4997-f3bc-f25e9e4d85e8"
      },
      "outputs": [
        {
          "name": "stdout",
          "output_type": "stream",
          "text": [
            "Take some numbers as a tuple: (10, 20, 24, 25, 26, 35, 70)\n",
            "(24, 25, 26)\n"
          ]
        }
      ],
      "source": [
        "#task2 (By taking inputs)\n",
        "\n",
        "user = input(\"Take some numbers as a tuple: \")\n",
        "list1 = user[1:-1].split(\",\")\n",
        "new_list = []\n",
        "for i in list1:\n",
        "  new_list.append(int(i))\n",
        "print(tuple(new_list)[2:-2])\n"
      ]
    },
    {
      "cell_type": "code",
      "execution_count": null,
      "metadata": {
        "colab": {
          "base_uri": "https://localhost:8080/"
        },
        "id": "tal98Si42RiP",
        "outputId": "e0403b41-18b1-4bc8-fda9-b6414f6103f5"
      },
      "outputs": [
        {
          "name": "stdout",
          "output_type": "stream",
          "text": [
            "Size of the tuple is: 4\n",
            "('Best Mystery & Thriller', 'The Silent Patient', 68, 821)\n",
            "('Best Horror', 'The Institute', 75, 717)\n",
            "('Best History & Biography', 'The five', 31, 783)\n",
            "('Best Fiction', 'The Testaments', 98, 291)\n"
          ]
        }
      ],
      "source": [
        "#task3\n",
        "\n",
        "tuple1 = book_info = ((\"Best Mystery & Thriller\",\"The Silent Patient\",68,821), (\"Best Horror\",\"The Institute\",75,717), (\"Best History & Biography\",\"The five\",31,783 ), (\"Best Fiction\",\"The Testaments\",98,291))\n",
        "print(\"Size of the tuple is:\",len(tuple1))\n",
        "for i in tuple1:\n",
        "    print(i)\n"
      ]
    },
    {
      "cell_type": "code",
      "execution_count": null,
      "metadata": {
        "colab": {
          "base_uri": "https://localhost:8080/"
        },
        "id": "CKTASfgf4bgY",
        "outputId": "79477d6c-b3f1-4121-94b0-566b243bdeef"
      },
      "outputs": [
        {
          "name": "stdout",
          "output_type": "stream",
          "text": [
            "The Silent Patient won the 'Best Mystery & Thriller' category with 68821 votes\n",
            "The Institute won the 'Best Horror' category with 75717 votes\n",
            "The five won the 'Best History & Biography' category with 31783 votes\n",
            "The Testaments won the 'Best Fiction' category with 98291 votes\n"
          ]
        }
      ],
      "source": [
        "#task4\n",
        "\n",
        "book_info = ((\"Best Mystery & Thriller\",\"The Silent Patient\",68821), (\"Best Horror\",\"The Institute\",75717), (\"Best History & Biography\",\"The five\",31783 ), (\"Best Fiction\",\"The Testaments\",98291))\n",
        "for a,b,c in book_info:\n",
        "    print(b+\" won the \"+\"'\"+a+\"'\"+\" category with \"+str(c)+\" votes\")\n"
      ]
    },
    {
      "cell_type": "code",
      "execution_count": null,
      "metadata": {
        "colab": {
          "base_uri": "https://localhost:8080/"
        },
        "id": "FqX4r4KOBUXi",
        "outputId": "345c436f-ea83-474d-ff1d-6af495aadf6e"
      },
      "outputs": [
        {
          "name": "stdout",
          "output_type": "stream",
          "text": [
            "Enter the number: 3\n",
            "3 appears 0 times in that tuple\n"
          ]
        }
      ],
      "source": [
        "#task5\n",
        "\n",
        "tuple1 = (10, 8, 5, 2, 10, 15, 10, 8, 5, 8, 8, 2)\n",
        "u = int(input(\"Enter the number: \"))\n",
        "c = 0\n",
        "for i in tuple1:\n",
        "    if i == u:\n",
        "        c+=1\n",
        "print(u,\"appears\",c,\"times in that tuple\")\n"
      ]
    },
    {
      "cell_type": "code",
      "execution_count": null,
      "metadata": {
        "colab": {
          "base_uri": "https://localhost:8080/"
        },
        "id": "PuX3nxv9QrGJ",
        "outputId": "8427ef36-da98-462a-df56-4bae4ca27ff4"
      },
      "outputs": [
        {
          "name": "stdout",
          "output_type": "stream",
          "text": [
            "('h', 'g', 'f', 'e', 'd', 'c', 'b')\n"
          ]
        }
      ],
      "source": [
        "#task6\n",
        "\n",
        "tuple1 = ('a', 'b', 'c', 'd', 'e', 'f', 'g', 'h')\n",
        "a = []\n",
        "for i in range(-1,-len(tuple1),-1):\n",
        "        a.append(tuple1[i])\n",
        "print(tuple(a))\n"
      ]
    },
    {
      "cell_type": "code",
      "execution_count": null,
      "metadata": {
        "colab": {
          "base_uri": "https://localhost:8080/"
        },
        "id": "1H4zMWEShrMI",
        "outputId": "a3e713cf-61f0-4798-e238-967c53b0cb8d"
      },
      "outputs": [
        {
          "name": "stdout",
          "output_type": "stream",
          "text": [
            "('h', 'g', 'f', 'e', 'd', 'c', 'b', 'a')\n"
          ]
        }
      ],
      "source": [
        "#task6 (alternative)\n",
        "\n",
        "tuple1 = ('a', 'b', 'c', 'd', 'e', 'f', 'g', 'h')\n",
        "list1 = list(tuple1)\n",
        "list1.reverse()\n",
        "print(tuple(list1))\n"
      ]
    },
    {
      "cell_type": "code",
      "execution_count": null,
      "metadata": {
        "colab": {
          "base_uri": "https://localhost:8080/"
        },
        "id": "T7pzkVffSRrw",
        "outputId": "c08b4a4b-e13f-4d44-e5f9-16c1ffb7a77a"
      },
      "outputs": [
        {
          "name": "stdout",
          "output_type": "stream",
          "text": [
            "{'Harry': 15, 'Draco': 8, 'Nevil': 19, 'Ginie': 18, 'Luna': 14}\n"
          ]
        }
      ],
      "source": [
        "#task7\n",
        "\n",
        "dict1 = {'Harry':15, 'Draco':8, 'Nevil':19}\n",
        "dict2 = {'Ginie':18, 'Luna': 14}\n",
        "\n",
        "dict1.update(dict2)\n",
        "\n",
        "print(dict1)\n"
      ]
    },
    {
      "cell_type": "code",
      "execution_count": null,
      "metadata": {
        "colab": {
          "base_uri": "https://localhost:8080/"
        },
        "id": "JkJFCOqVS3Vr",
        "outputId": "e6068c3d-b2db-4541-9082-09dcfccbe3f0"
      },
      "outputs": [
        {
          "name": "stdout",
          "output_type": "stream",
          "text": [
            "Enter a string as dictionary: {'Jon': 100, 'Dan':200, 'Rob':300}\n",
            "Average is 200\n"
          ]
        }
      ],
      "source": [
        "#task8\n",
        "\n",
        "a = input(\"Enter a string as dictionary: \")\n",
        "a = a.strip(\"{\")\n",
        "a = a.strip(\"}\")\n",
        "a = a.replace(\",\",\":\")\n",
        "b = a.split(\":\")\n",
        "# print(b)\n",
        "\n",
        "c = 0\n",
        "s = 0\n",
        "for i in b:\n",
        "    if c%2 != 0:\n",
        "        s += int(i)\n",
        "    c += 1\n",
        "print(\"Average is \"+str(s//(c//2)))\n"
      ]
    },
    {
      "cell_type": "code",
      "execution_count": null,
      "metadata": {
        "colab": {
          "base_uri": "https://localhost:8080/"
        },
        "id": "1W2kAtVfuu8v",
        "outputId": "8c822059-94d6-43cc-eebf-70a0f6a4e296"
      },
      "outputs": [
        {
          "name": "stdout",
          "output_type": "stream",
          "text": [
            "Enter a string as dictionary: {'Jon': 100, 'Dan':200, 'Rob':300}\n",
            "Average is 200\n"
          ]
        }
      ],
      "source": [
        "#task8 (alternative way)\n",
        "\n",
        "a = input(\"Enter a string as dictionary: \")\n",
        "a = a.strip(\"{\")\n",
        "a = a.strip(\"}\")\n",
        "a = a.replace(\",\",\":\")\n",
        "b = a.split(\":\")\n",
        "# print(b)\n",
        "\n",
        "c = 0\n",
        "s = 0\n",
        "for i in range(1,len(b),2):\n",
        "    # print(int(b[i]))\n",
        "    c+=1\n",
        "    s+=int(b[i])\n",
        "# print(s)\n",
        "print(\"Average is \"+str(s//c))\n"
      ]
    },
    {
      "cell_type": "code",
      "execution_count": null,
      "metadata": {
        "colab": {
          "base_uri": "https://localhost:8080/"
        },
        "id": "xocR-i4L4ety",
        "outputId": "66eda257-2e24-4759-c349-1906d541a628"
      },
      "outputs": [
        {
          "name": "stdout",
          "output_type": "stream",
          "text": [
            "Enter a number: 170\n",
            "{'Cierra Vega': 175, 'Alden Cantrell': 200, 'Pierre Cox': 190}\n"
          ]
        }
      ],
      "source": [
        "#task9\n",
        "\n",
        "exam_marks = {'Cierra Vega': 175, 'Alden Cantrell': 200, 'Kierra Gentry': 165, 'Pierre Cox': 190}\n",
        "new = {}\n",
        "n = {}\n",
        "u = int(input(\"Enter a number: \"))\n",
        "for i in exam_marks:\n",
        "    if exam_marks[i]>u:\n",
        "        n.update({i:exam_marks[i]})\n",
        "\n",
        "        new[i] = exam_marks[i]\n",
        "print(n)\n"
      ]
    },
    {
      "cell_type": "code",
      "execution_count": null,
      "metadata": {
        "colab": {
          "base_uri": "https://localhost:8080/"
        },
        "id": "KIKiENG48oxU",
        "outputId": "92c3470d-8945-4b43-b97a-41912cac575d"
      },
      "outputs": [
        {
          "name": "stdout",
          "output_type": "stream",
          "text": [
            "Enter a number: 170\n",
            "{'Cierra Vega': 175, 'Alden Cantrell': 200, 'Pierre Cox': 190}\n"
          ]
        }
      ],
      "source": [
        "#task9 (Alternative way)\n",
        "\n",
        "exam_marks = {'Cierra Vega': 175, 'Alden Cantrell': 200, 'Kierra Gentry': 165, 'Pierre Cox': 190}\n",
        "new = {}\n",
        "u = int(input(\"Enter a number: \"))\n",
        "for i in exam_marks:\n",
        "    if exam_marks[i]>u:\n",
        "        new[i] = exam_marks[i]\n",
        "print(new)\n"
      ]
    },
    {
      "cell_type": "code",
      "execution_count": null,
      "metadata": {
        "colab": {
          "base_uri": "https://localhost:8080/"
        },
        "id": "49vhQiBaAGs9",
        "outputId": "4cafc671-ecb9-4bcc-a4ae-ce20ef480b32"
      },
      "outputs": [
        {
          "name": "stdout",
          "output_type": "stream",
          "text": [
            "{('a', 'b'): (6, 7), 'b': 7}\n"
          ]
        }
      ],
      "source": [
        "c={}\n",
        "c['a','b'] = 6,7\n",
        "c['b'] = 7\n",
        "print(c)"
      ]
    },
    {
      "cell_type": "code",
      "execution_count": null,
      "metadata": {
        "colab": {
          "base_uri": "https://localhost:8080/"
        },
        "id": "MtEmrt1dKz2v",
        "outputId": "934a8b1f-3ca4-4daa-ca3e-05b5455c0141"
      },
      "outputs": [
        {
          "name": "stdout",
          "output_type": "stream",
          "text": [
            "The highest selling book genre is 'mystery' and the number of books sold are 15.\n"
          ]
        }
      ],
      "source": [
        "#task10\n",
        "\n",
        "dict1 = {'sci fi': 12, 'mystery': 15, 'horror': 8, 'mythology': 10, 'young_adult': 4, 'adventure':14}\n",
        "max = -1\n",
        "for i in dict1:\n",
        "    if dict1[i]>max:\n",
        "        max = dict1[i]\n",
        "        j = i\n",
        "print(\"The highest selling book genre is \"+\"'\"+j+\"'\"+\" and the number of books sold are \"+str(max)+\".\")\n"
      ]
    },
    {
      "cell_type": "code",
      "execution_count": null,
      "metadata": {
        "colab": {
          "base_uri": "https://localhost:8080/"
        },
        "id": "k9s27GDENtHD",
        "outputId": "f3f9a435-ec8d-4743-c005-9dd11b6cc2c0"
      },
      "outputs": [
        {
          "name": "stdout",
          "output_type": "stream",
          "text": [
            "{'p': 2, 'y': 1, 't': 1, 'h': 1, 'o': 2, 'n': 3, ' ': 3, 'r': 2, 'g': 2, 'a': 1, 'm': 2, 'i': 2, 's': 1, 'f': 1, 'u': 1}\n"
          ]
        }
      ],
      "source": [
        "#task11\n",
        "\n",
        "x = \"Python programming is fun\"\n",
        "d = {}\n",
        "for i in x:\n",
        "    b = i.lower()\n",
        "    if b not in d:\n",
        "        d[b] = 1\n",
        "    else:\n",
        "        d[b] += 1\n",
        "\n",
        "print(d)\n"
      ]
    },
    {
      "cell_type": "code",
      "execution_count": null,
      "metadata": {
        "colab": {
          "base_uri": "https://localhost:8080/"
        },
        "id": "No6UdPjOeIgW",
        "outputId": "e4df5cd1-8ed0-4b31-b078-24ccf3564a16"
      },
      "outputs": [
        {
          "name": "stdout",
          "output_type": "stream",
          "text": [
            "9\n"
          ]
        }
      ],
      "source": [
        "#task12\n",
        "\n",
        "dict_1 = {'A': [1, 2, 3], 'b': ['1', '2'], \"c\": [4, 5, 6, 7]}\n",
        "c = 0\n",
        "for i in dict_1:\n",
        "    for j in dict_1[i]:\n",
        "        c+=1\n",
        "print(c)\n"
      ]
    },
    {
      "cell_type": "code",
      "execution_count": null,
      "metadata": {
        "colab": {
          "base_uri": "https://localhost:8080/"
        },
        "id": "myfJo3DFekGB",
        "outputId": "4606a561-7c5a-43e7-d7fa-887167e09b9b"
      },
      "outputs": [
        {
          "name": "stdout",
          "output_type": "stream",
          "text": [
            "{'a': [1, 3, 2], 'b': [2, 1], 'c': [1]}\n"
          ]
        }
      ],
      "source": [
        "#task13\n",
        "\n",
        "list_1 = [(\"a\", 1), (\"b\", 2), (\"a\", 3), (\"b\", 1), (\"a\", 2), (\"c\", 1)]\n",
        "dict1 = {}\n",
        "for i in list_1:\n",
        "    if i[0] not in dict1:\n",
        "        dict1[i[0]] = [i[1]]\n",
        "    else:\n",
        "        dict1[i[0]].append(i[1])\n",
        "print(dict1)\n"
      ]
    },
    {
      "cell_type": "code",
      "execution_count": null,
      "metadata": {
        "id": "D4YkplqU8hW3"
      },
      "outputs": [],
      "source": [
        "\n",
        "var1 = var2 = var3 = var4 = var5 = var6 = False\n",
        "result1 = result2 = result3 = result4 = result5 = result6 = result7 = result8 = result9 = result10 = False\n",
        "var1 = 4 < 3 - 1\n",
        "var2 = var1 and False\n",
        "var3 = False\n",
        "var4 = True\n",
        "var5 = False\n",
        "var6 = var3 and True\n",
        "result1 = (var1 or var2) and (8 * 10 > 45)\n",
        "result2 = (var1 or var2) and (result1 and False)\n",
        "result3 = (var1 and result1) or result2\n",
        "result4 = (var1 or var2) or ((var3 and var1) and False)\n",
        "result5 = (var1 and var2) and (result3 or var1)\n",
        "result6 = ((var3 or var2) and not result5) or True\n",
        "result7 = (var4 and result1) and ((result1 and False) or True)\n",
        "result8 = ((var1 and result3) and (var5 or var6)) and True\n",
        "result9 = ((result2 and var2) or (result7 and var1)) and False\n",
        "result10 = not(var1 and True)\n"
      ]
    }
  ],
  "metadata": {
    "colab": {
      "provenance": []
    },
    "kernelspec": {
      "display_name": "Python 3",
      "name": "python3"
    },
    "language_info": {
      "name": "python"
    }
  },
  "nbformat": 4,
  "nbformat_minor": 0
}
